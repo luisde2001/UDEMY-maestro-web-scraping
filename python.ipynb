{
 "cells": [
  {
   "cell_type": "markdown",
   "metadata": {},
   "source": [
    "# PYTHON BASICO\n",
    "\n",
    "https://www.youtube.com/watch?v=HJgX1WWC26A Para markdown"
   ]
  },
  {
   "cell_type": "markdown",
   "metadata": {},
   "source": [
    "---"
   ]
  },
  {
   "cell_type": "markdown",
   "metadata": {},
   "source": [
    "#### Set: es un conjunto.  \n",
    "Lista con elementos no repetidos: conjunto={3, 6, 8}  \n",
    "conjunto.add(8) no me dejará añadir más"
   ]
  },
  {
   "cell_type": "code",
   "execution_count": 2,
   "metadata": {},
   "outputs": [
    {
     "name": "stdout",
     "output_type": "stream",
     "text": [
      "<class 'set'>\n"
     ]
    }
   ],
   "source": [
    "conjunto = {3, 6, 8}\n",
    "print(type(conjunto))"
   ]
  },
  {
   "cell_type": "code",
   "execution_count": 3,
   "metadata": {},
   "outputs": [
    {
     "name": "stdout",
     "output_type": "stream",
     "text": [
      "{8, 3, 6}\n"
     ]
    }
   ],
   "source": [
    "conjunto.add(8)\n",
    "print(conjunto)"
   ]
  },
  {
   "cell_type": "markdown",
   "metadata": {},
   "source": [
    "---"
   ]
  },
  {
   "cell_type": "markdown",
   "metadata": {},
   "source": [
    "#### ARCHIVOS\n",
    "\"r\" => Read  \n",
    "\"a\" => Agregar  \n",
    "\"w\" => Escribir desde 0"
   ]
  },
  {
   "cell_type": "code",
   "execution_count": 4,
   "metadata": {},
   "outputs": [
    {
     "name": "stdout",
     "output_type": "stream",
     "text": [
      "Durazno, 3, 3\n",
      "Pera, 1, 1\n",
      "Sandía, 10, 1\n"
     ]
    }
   ],
   "source": [
    "f = open(\"archivo.txt\", \"r\")\n",
    "for line in f:\n",
    "    line = line.strip() #para eliminar los /n\n",
    "    print(line)"
   ]
  },
  {
   "cell_type": "markdown",
   "metadata": {},
   "source": [
    "Ahora imaginamos que quiero acceder al segundo número de cada línea.  \n",
    "Lo mejor es crear de cada línea una lista cuyo patron es la ,"
   ]
  },
  {
   "cell_type": "code",
   "execution_count": 5,
   "metadata": {},
   "outputs": [
    {
     "name": "stdout",
     "output_type": "stream",
     "text": [
      "['Durazno', ' 3', ' 3']\n",
      "['Pera', ' 1', ' 1']\n",
      "['Sandía', ' 10', ' 1']\n"
     ]
    }
   ],
   "source": [
    "f = open(\"archivo.txt\", \"r\")\n",
    "for line in f:\n",
    "    line = line.strip() #para eliminar los /n\n",
    "    line = line.split(\",\")\n",
    "    print(line)"
   ]
  },
  {
   "cell_type": "markdown",
   "metadata": {},
   "source": [
    "Ahora ya, si quiero acceder a las frutas, no hay más que acceder al índice 0"
   ]
  },
  {
   "cell_type": "code",
   "execution_count": 6,
   "metadata": {},
   "outputs": [
    {
     "name": "stdout",
     "output_type": "stream",
     "text": [
      "Durazno\n",
      "Pera\n",
      "Sandía\n"
     ]
    }
   ],
   "source": [
    "f = open(\"archivo.txt\", \"r\")\n",
    "for line in f:\n",
    "    line = line.strip() #para eliminar los /n\n",
    "    line = line.split(\",\")\n",
    "    print(line[0])"
   ]
  },
  {
   "cell_type": "markdown",
   "metadata": {},
   "source": [
    "Supongamos que queremos ahora añadir una nueva línea.  \n",
    "Habrá que abrir el fichero en modo \"a\", y cuidado con los \\n"
   ]
  },
  {
   "cell_type": "code",
   "execution_count": 13,
   "metadata": {},
   "outputs": [
    {
     "data": {
      "text/plain": [
       "14"
      ]
     },
     "execution_count": 13,
     "metadata": {},
     "output_type": "execute_result"
    }
   ],
   "source": [
    "f = open(\"archivo.txt\", \"a\")\n",
    "f.write(\"\\nPlatano, 5, 2\")"
   ]
  },
  {
   "cell_type": "markdown",
   "metadata": {},
   "source": [
    "---"
   ]
  },
  {
   "cell_type": "markdown",
   "metadata": {},
   "source": [
    "#### MANEJO DE ERRORES"
   ]
  },
  {
   "cell_type": "markdown",
   "metadata": {},
   "source": [
    "Simplemente recordar try: y except:"
   ]
  }
 ],
 "metadata": {
  "kernelspec": {
   "display_name": ".scrape",
   "language": "python",
   "name": "python3"
  },
  "language_info": {
   "codemirror_mode": {
    "name": "ipython",
    "version": 3
   },
   "file_extension": ".py",
   "mimetype": "text/x-python",
   "name": "python",
   "nbconvert_exporter": "python",
   "pygments_lexer": "ipython3",
   "version": "3.7.12"
  },
  "orig_nbformat": 4
 },
 "nbformat": 4,
 "nbformat_minor": 2
}
