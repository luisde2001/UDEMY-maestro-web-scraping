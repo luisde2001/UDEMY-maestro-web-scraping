{
 "cells": [
  {
   "cell_type": "markdown",
   "metadata": {},
   "source": [
    "# Wikipedia  \n",
    "Vamos a Scrapear los idiomas de wikipedia con lxml y con xpath"
   ]
  },
  {
   "cell_type": "code",
   "execution_count": 16,
   "metadata": {},
   "outputs": [],
   "source": [
    "import requests\n",
    "from lxml import html"
   ]
  },
  {
   "cell_type": "markdown",
   "metadata": {},
   "source": [
    "Primera parte en la que solicitamos la pagina por medio de la librería request  \n",
    "Necesitamos definir los user-agent y lo que tenemos que imprimir debe ser el texto, no el reponse"
   ]
  },
  {
   "cell_type": "code",
   "execution_count": 17,
   "metadata": {},
   "outputs": [],
   "source": [
    "encabezados = {\n",
    "    \"user-agent\": \"Mozilla/5.0 (X11; Linux x86_64) AppleWebKit/537.36 (KHTML, like Gecko) Ubuntu Chromium/71.0.3578.80 Chrome/71.0.3578.80 Safari/537.36\"\n",
    "}\n",
    "url = \"https://www.wikipedia.org\""
   ]
  },
  {
   "cell_type": "code",
   "execution_count": 18,
   "metadata": {},
   "outputs": [],
   "source": [
    "respuesta = requests.get(url, headers=encabezados)"
   ]
  },
  {
   "cell_type": "code",
   "execution_count": 19,
   "metadata": {},
   "outputs": [],
   "source": [
    "#print(respuesta.text)"
   ]
  },
  {
   "cell_type": "markdown",
   "metadata": {},
   "source": [
    "  "
   ]
  },
  {
   "cell_type": "markdown",
   "metadata": {},
   "source": [
    "Ahora vamos a PARSEAR por medio de la libreria lxml => html. Vamos a parsear de dos formas "
   ]
  },
  {
   "cell_type": "markdown",
   "metadata": {},
   "source": [
    "La primera por medio de las funciones de LXML"
   ]
  },
  {
   "cell_type": "code",
   "execution_count": 20,
   "metadata": {},
   "outputs": [],
   "source": [
    "parser = html.fromstring(respuesta.text)\n",
    "ingles = parser.get_element_by_id(\"js-link-box-en\")  ## Este elemento lo he inspeccionado en la pagina y buscado su ID. Esta funcion viene con lxml"
   ]
  },
  {
   "cell_type": "code",
   "execution_count": 21,
   "metadata": {},
   "outputs": [
    {
     "name": "stdout",
     "output_type": "stream",
     "text": [
      "\n",
      "English\n",
      "6 701 000+ articles\n",
      "\n"
     ]
    }
   ],
   "source": [
    "print(ingles. text_content())"
   ]
  },
  {
   "cell_type": "markdown",
   "metadata": {},
   "source": [
    "La segunda por medio de XPATH"
   ]
  },
  {
   "cell_type": "code",
   "execution_count": 22,
   "metadata": {},
   "outputs": [],
   "source": [
    "espanol = parser.xpath(\"//a[@id='js-link-box-es']/strong/text()\")"
   ]
  },
  {
   "cell_type": "code",
   "execution_count": 23,
   "metadata": {},
   "outputs": [
    {
     "name": "stdout",
     "output_type": "stream",
     "text": [
      "['EspaÃ±ol']\n"
     ]
    }
   ],
   "source": [
    "print(espanol)"
   ]
  },
  {
   "cell_type": "markdown",
   "metadata": {},
   "source": [
    "  "
   ]
  },
  {
   "cell_type": "markdown",
   "metadata": {},
   "source": [
    "Vamos a recorrer todos los idiomas  \n",
    "Si vemos, todos los idiomas estan en un <a> dentro de un <div> cuya \"class = central-featured-lang \" y algo más  \n",
    "    Todos ellos guardan la misma estructura  <div class = central-featured-lang xxxx>, dentro <a> y dentro <strong>"
   ]
  },
  {
   "cell_type": "code",
   "execution_count": 24,
   "metadata": {},
   "outputs": [
    {
     "name": "stdout",
     "output_type": "stream",
     "text": [
      "['English', 'æ\\x97¥æ\\x9c¬èª\\x9e', 'EspaÃ±ol', 'Ð\\xa0Ñ\\x83Ñ\\x81Ñ\\x81ÐºÐ¸Ð¹', 'Deutsch', 'FranÃ§ais', 'Italiano', 'ä¸\\xadæ\\x96\\x87', 'PortuguÃªs']\n"
     ]
    }
   ],
   "source": [
    "idiomas = parser.xpath(\"//div[contains(@class, 'central-featured-lang')]//strong/text()\")\n",
    "print(idiomas)  #idiomas es una lista, puesto que encuentra todos los divs que conienen esa clase. Para imprimir uno por uno: for idioma in idimas ..."
   ]
  },
  {
   "cell_type": "markdown",
   "metadata": {},
   "source": [
    "Lo mismo, vamos a recoger todos los idiomas pero con lxml"
   ]
  },
  {
   "cell_type": "code",
   "execution_count": 25,
   "metadata": {},
   "outputs": [
    {
     "name": "stdout",
     "output_type": "stream",
     "text": [
      "\n",
      "\n",
      "English\n",
      "6 701 000+ articles\n",
      "\n",
      "\n",
      "\n",
      "\n",
      "æ¥æ¬èª\n",
      "1 384 000+ è¨äº\n",
      "\n",
      "\n",
      "\n",
      "\n",
      "EspaÃ±ol\n",
      "1 886 000+ artÃ­culos\n",
      "\n",
      "\n",
      "\n",
      "\n",
      "Ð ÑÑÑÐºÐ¸Ð¹\n",
      "1 933 000+ ÑÑÐ°ÑÐµÐ¹\n",
      "\n",
      "\n",
      "\n",
      "\n",
      "Deutsch\n",
      "2 828 000+ Artikel\n",
      "\n",
      "\n",
      "\n",
      "\n",
      "FranÃ§ais\n",
      "2 546 000+ articles\n",
      "\n",
      "\n",
      "\n",
      "\n",
      "Italiano\n",
      "1 823 000+ voci\n",
      "\n",
      "\n",
      "\n",
      "\n",
      "ä¸­æ\n",
      "1 373 000+ æ¡ç® / æ¢ç®\n",
      "\n",
      "\n",
      "\n",
      "\n",
      "PortuguÃªs\n",
      "1 107 000+ artigos\n",
      "\n",
      "\n",
      "\n",
      "\n",
      "ÙØ§Ø±Ø³Û\n",
      "971 000+ Ù",
      "ÙØ§ÙÙ\n",
      "\n",
      "\n"
     ]
    }
   ],
   "source": [
    "idiomas = parser.find_class('central-featured-lang')\n",
    "#print(idiomas)\n",
    "for idioma in idiomas:\n",
    "    print(idioma.text_content())"
   ]
  },
  {
   "cell_type": "code",
   "execution_count": null,
   "metadata": {},
   "outputs": [],
   "source": []
  }
 ],
 "metadata": {
  "kernelspec": {
   "display_name": "Python 3 (ipykernel)",
   "language": "python",
   "name": "python3"
  },
  "language_info": {
   "codemirror_mode": {
    "name": "ipython",
    "version": 3
   },
   "file_extension": ".py",
   "mimetype": "text/x-python",
   "name": "python",
   "nbconvert_exporter": "python",
   "pygments_lexer": "ipython3",
   "version": "3.11.4"
  }
 },
 "nbformat": 4,
 "nbformat_minor": 2
}
