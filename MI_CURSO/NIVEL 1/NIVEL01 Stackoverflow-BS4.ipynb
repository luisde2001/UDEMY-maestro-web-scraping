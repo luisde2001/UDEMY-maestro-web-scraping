{
 "cells": [
  {
   "cell_type": "markdown",
   "id": "c345354d",
   "metadata": {},
   "source": [
    "# STACKOVERFLOW  \n",
    "Vamos a scrapear Stackoverflow con BeautifulSoup"
   ]
  },
  {
   "cell_type": "code",
   "execution_count": 39,
   "id": "5e627fed",
   "metadata": {},
   "outputs": [],
   "source": [
    "import requests\n",
    "from bs4 import BeautifulSoup"
   ]
  },
  {
   "cell_type": "code",
   "execution_count": 40,
   "id": "9a95b4f5",
   "metadata": {},
   "outputs": [],
   "source": [
    "headers = {\n",
    "    \"user-agent\": \"Mozilla/5.0 (X11; Linux x86_64) AppleWebKit/537.36 (KHTML, like Gecko) Ubuntu Chromium/71.0.3578.80 Chrome/71.0.3578.80 Safari/537.36\"\n",
    "}\n",
    "\n",
    "url = \"https://stackoverflow.com/questions\""
   ]
  },
  {
   "cell_type": "code",
   "execution_count": 41,
   "id": "22cdddf5",
   "metadata": {},
   "outputs": [],
   "source": [
    "respuesta = requests.get(url, headers=headers)\n",
    "respuesta.encoding = 'utf-8' # Codificar correctamente caracteres extranos"
   ]
  },
  {
   "cell_type": "markdown",
   "id": "1fab8c1f",
   "metadata": {},
   "source": [
    "Creamos un objeto Soup para parsear la respuesta"
   ]
  },
  {
   "cell_type": "code",
   "execution_count": 42,
   "id": "6c38fc8f",
   "metadata": {},
   "outputs": [],
   "source": [
    "soup = BeautifulSoup(respuesta.text)\n",
    "contenedor_de_preguntas = soup.find(id=\"questions\") # ENCONTRAR UN ELEMENTO POR ID\n",
    "lista_de_preguntas = contenedor_de_preguntas.find_all('div', class_=\"s-post-summary\") # ENCONTRAR VARIOS ELEMENTOS POR TAG Y POR CLASE"
   ]
  },
  {
   "cell_type": "markdown",
   "id": "c2134b99",
   "metadata": {},
   "source": [
    "Vamos a buscar una parte que es donde estan las preguntas.  \n",
    "Cuidado, porque lista_de_preguntas es una **LISTA de elementos HTML**, no de texto. Habrá que buscar el texto.  \n",
    "**Una pregunta es, cómo almacenar lo que vamos a imprimir** "
   ]
  },
  {
   "cell_type": "code",
   "execution_count": 43,
   "id": "439d45d2",
   "metadata": {},
   "outputs": [],
   "source": [
    "for pregunta in lista_de_preguntas: # ITERAR ELEMENTO POR ELEMENTO\n",
    "    # METODO #1: METODO TRADICIONAL\n",
    "    texto_pregunta = pregunta.find('h3').text # DENTRO DE CADA ELEMENTO ITERADO ENCONTRAR UN TAG\n",
    "    descripcion_pregunta = pregunta.find(class_='s-post-summary--content-excerpt').text # ENCONTRAR POR CLASE\n",
    "    descripcion_pregunta = descripcion_pregunta.replace('\\n', '').replace('\\r', '').strip() # LIMPIEZA DE TEXTO\n",
    "    #print (texto_pregunta)\n",
    "    #print (descripcion_pregunta)\n",
    "    #print ()"
   ]
  },
  {
   "cell_type": "markdown",
   "id": "05b73efe",
   "metadata": {},
   "source": [
    "**BeautifulSoup** tiene una ventaja, y es que **TE PUEDE BUSCAR PARTE DEL HTML POR PRIMOS ADYACENTES; HIJOS; ETC ADEMÁS DE ENCONTRAR LAS CLASES Y LOS ID**"
   ]
  },
  {
   "cell_type": "code",
   "execution_count": 51,
   "id": "dde739c4",
   "metadata": {},
   "outputs": [],
   "source": [
    "# METODO #2: APROVECHANDO EL PODER COMPLETO DE BEAUTIFUL SOUP\n",
    "for pregunta in lista_de_preguntas: # ITERAR ELEMENTO POR ELEMENTO\n",
    "    contenedor_pregunta = pregunta.find('h3')\n",
    "    texto_pregunta = contenedor_pregunta.text\n",
    "    descripcion_pregunta = contenedor_pregunta.find_next_sibling('div') # TRAVERSANDO EL ARBOL DE UNA MENERA DIFERENTE\n",
    "    texto_descripcion_pregunta = descripcion_pregunta.text.replace('\\n', '').replace('\\r', '').strip()\n",
    "    #print (texto_pregunta)\n",
    "    #print (texto_descripcion_pregunta)\n",
    "    #print ()"
   ]
  }
 ],
 "metadata": {
  "kernelspec": {
   "display_name": "Python 3 (ipykernel)",
   "language": "python",
   "name": "python3"
  },
  "language_info": {
   "codemirror_mode": {
    "name": "ipython",
    "version": 3
   },
   "file_extension": ".py",
   "mimetype": "text/x-python",
   "name": "python",
   "nbconvert_exporter": "python",
   "pygments_lexer": "ipython3",
   "version": "3.11.4"
  }
 },
 "nbformat": 4,
 "nbformat_minor": 5
}
