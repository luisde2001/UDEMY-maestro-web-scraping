{
 "cells": [
  {
   "cell_type": "markdown",
   "id": "73767ddf",
   "metadata": {},
   "source": [
    "# STACKOVERFLOW con Scrapy"
   ]
  },
  {
   "cell_type": "markdown",
   "id": "8620f475",
   "metadata": {},
   "source": [
    "\"\"\"\n",
    "OBJETIVO: \n",
    "    - Extraer las preguntas de la pagina principal de Stackoverflow con Scrapy\n",
    "CREADO POR: LEONARDO KUFFO\n",
    "ULTIMA VEZ EDITADO: 09 ENERO 2023\n",
    "\"\"\""
   ]
  },
  {
   "cell_type": "code",
   "execution_count": 17,
   "id": "2d7e955e",
   "metadata": {},
   "outputs": [],
   "source": [
    "# VER RECURSOS DE LA CLASE PARA INSTALAR SCRAPY\n",
    "from scrapy.item import Field\n",
    "from scrapy.item import Item\n",
    "from scrapy.spiders import Spider\n",
    "from scrapy.selector import Selector\n",
    "from scrapy.loader.processors import MapCompose\n",
    "from scrapy.loader import ItemLoader\n",
    "from bs4 import BeautifulSoup"
   ]
  },
  {
   "cell_type": "code",
   "execution_count": 18,
   "id": "1f2513f7",
   "metadata": {},
   "outputs": [],
   "source": [
    "from scrapy.spiders import Spider\n",
    "from scrapy.crawler import CrawlerProcess"
   ]
  },
  {
   "cell_type": "markdown",
   "id": "c88aaec0",
   "metadata": {},
   "source": [
    "Vamos a definir las clases que se necesitan en Scrapy"
   ]
  },
  {
   "cell_type": "code",
   "execution_count": 19,
   "id": "2cdbe8e8",
   "metadata": {},
   "outputs": [],
   "source": [
    "# ABSTRACCION DE DATOS A EXTRAER - DETERMINA LOS DATOS QUE TENGO QUE LLENAR Y QUE ESTARAN EN EL ARCHIVO GENERADO\n",
    "class Pregunta(Item):\n",
    "    id = Field()\n",
    "    pregunta = Field()\n",
    "    descripcion = Field()"
   ]
  },
  {
   "cell_type": "code",
   "execution_count": 20,
   "id": "7265e498",
   "metadata": {},
   "outputs": [],
   "source": [
    "# CLASE CORE - SPIDER\n",
    "class StackOverflowSpider(Spider):\n",
    "    name = \"MiPrimerSpider\" # nombre, puede ser cualquiera \n",
    "    \n",
    "    # Forma de configurar el USER AGENT en scrapy\n",
    "    custom_settings = {\n",
    "        'USER_AGENT': 'Mozilla/5.0 (X11; Linux x86_64) AppleWebKit/537.36 (KHTML, like Gecko) Ubuntu Chromium/71.0.3578.80 Chrome/71.0.3578.80 Safari/537.36'\n",
    "    }\n",
    "    \n",
    "    # URL SEMILLA\n",
    "    start_urls = ['https://stackoverflow.com/questions']\n",
    "    \n",
    "    # Funcion que se va a llamar cuando se haga el requerimiento a la URL semilla\n",
    "    def parse(self, response):\n",
    "        # Selectores: Clase de scrapy para extraer datos\n",
    "        sel = Selector(response) #Va a utilizar selectores de xpath\n",
    "        titulo_de_pagina = sel.xpath('//h1/text()').get()\n",
    "        print (titulo_de_pagina)\n",
    "        # Selector de varias preguntas\n",
    "        preguntas = sel.xpath('//div[@id=\"questions\"]//div[contains(@class,\"s-post-summary \")]') \n",
    "        i = 0\n",
    "        for pregunta in preguntas:\n",
    "            item = ItemLoader(Pregunta(), pregunta) # Instancio mi ITEM con el selector en donde estan los datos para llenarlo\n",
    "\n",
    "            # Lleno las propiedades de mi ITEM a traves de expresiones XPATH a buscar dentro del selector \"pregunta\"\n",
    "            item.add_xpath('pregunta', './/h3/a/text()') \n",
    "            # item.add_xpath('descripcion', './/div[@class=\"s-post-summary--content-excerpt\"]/text()')\n",
    "            item.add_value('id', i)\n",
    "            i += 1\n",
    "            yield item.load_item() # Hago Yield de la informacion para que se escriban los datos en el archivo"
   ]
  },
  {
   "cell_type": "markdown",
   "id": "c26cc90c",
   "metadata": {},
   "source": [
    "Ahora el problema es que no se puede correr como un notebook. Hay que correrlo por Terminal:  \n",
    "> scrapy runspider nombredelarchivo.py -o nombrenuevoarchivo.csv -t csv"
   ]
  },
  {
   "cell_type": "code",
   "execution_count": null,
   "id": "03f596f4",
   "metadata": {},
   "outputs": [],
   "source": []
  }
 ],
 "metadata": {
  "kernelspec": {
   "display_name": "Python 3 (ipykernel)",
   "language": "python",
   "name": "python3"
  },
  "language_info": {
   "codemirror_mode": {
    "name": "ipython",
    "version": 3
   },
   "file_extension": ".py",
   "mimetype": "text/x-python",
   "name": "python",
   "nbconvert_exporter": "python",
   "pygments_lexer": "ipython3",
   "version": "3.11.4"
  }
 },
 "nbformat": 4,
 "nbformat_minor": 5
}
